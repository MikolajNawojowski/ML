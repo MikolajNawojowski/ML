{
 "cells": [
  {
   "cell_type": "code",
   "execution_count": null,
   "metadata": {
    "collapsed": true
   },
   "outputs": [],
   "source": [
    "import matplotlib.pyplot as plt\n",
    "import numpy as np\n",
    "import math"
   ]
  },
  {
   "cell_type": "code",
   "execution_count": null,
   "metadata": {},
   "outputs": [],
   "source": [
    "X=np.array([(4,1940),(9,2960),(9,4630),(78,1528),(90,2040),(50,3700),(467,14815),(509,15200),(290,15700),(215,6045)])\n",
    "\n",
    "x1 = np.array(X[:,0])\n",
    "x2 = np.array(X[:,1])\n",
    "\n",
    "fig, ax = plt.subplots()\n",
    "ax.scatter(x1,x2)\n",
    "ax.set(xlabel='Seats count', ylabel='Distance range (km)',\n",
    "       title='Aircrafts')\n",
    "ax.grid()\n",
    "plt.show()"
   ]
  },
  {
   "cell_type": "code",
   "execution_count": null,
   "metadata": {
    "collapsed": true
   },
   "outputs": [],
   "source": [
    "train_data = np.array(X)\n",
    "max_values = train_data.max(0)\n",
    "\n",
    "X_norm = np.divide(train_data,max_values)"
   ]
  },
  {
   "cell_type": "code",
   "execution_count": null,
   "metadata": {
    "collapsed": true
   },
   "outputs": [],
   "source": [
    "data_set = X_norm\n",
    "groups = 2\n",
    "space=[[0,1],[0,1]]\n",
    "\n",
    "error_margin = 0.001\n",
    "m = 2.0\n",
    "\n",
    "assignation=np.zeros((len(X),groups))\n",
    "\n",
    "\n",
    "centers = []"
   ]
  },
  {
   "cell_type": "code",
   "execution_count": null,
   "metadata": {},
   "outputs": [],
   "source": [
    "import random\n",
    "\n",
    "centers = []\n",
    "\n",
    "def select_centers():\n",
    "    global centers\n",
    "    global groups\n",
    "    global space\n",
    "    iter=0\n",
    "    while iter<groups:\n",
    "        centers.append((random.uniform(space[0][0],space[0][1]), \n",
    "                        random.uniform(space[1][0],space[1][1])))\n",
    "        iter=iter+1\n",
    "        \n",
    "select_centers()\n",
    "print(centers)"
   ]
  },
  {
   "cell_type": "code",
   "execution_count": null,
   "metadata": {
    "collapsed": true
   },
   "outputs": [],
   "source": [
    "import scipy.linalg as lg\n",
    "\n",
    "class MahalanobisDistance:\n",
    "\n",
    "    def set_dataset(self, dataset):\n",
    "        self.dataset = dataset    \n",
    "\n",
    "    def get_distance(self, x, v, feature_matrix):\n",
    "        matrix_A = self.get_inverse_covariance_matrix(feature_matrix)\n",
    "        result = np.subtract(x, v)\n",
    "        return np.dot(np.dot(result, matrix_A), result)    \n",
    "    \n",
    "    def get_inverse_covariance_matrix(self,feature_matrix):\n",
    "        print(feature_matrix)\n",
    "        means_vector=np.mean(feature_matrix,axis=0)\n",
    "        sum=np.zeros((2,2))\n",
    "        for i in range(len(feature_matrix)):\n",
    "            a=np.subtract(feature_matrix[i],means_vector)\n",
    "            sum=np.add(sum,np.outer(a,a))\n",
    "        return lg.inv(np.divide(sum,len(feature_matrix)))"
   ]
  },
  {
   "cell_type": "code",
   "execution_count": null,
   "metadata": {},
   "outputs": [],
   "source": [
    "mahalanobis_distance = MahalanobisDistance()\n",
    "mahalanobis_distance.set_dataset(data_set)"
   ]
  },
  {
   "cell_type": "code",
   "execution_count": null,
   "metadata": {
    "collapsed": true
   },
   "outputs": [],
   "source": [
    "def calculate_mah_distance(x1, x2, feature_matrix):\n",
    "    global mahalanobis_distance\n",
    "    return mahalanobis_distance.get_distance(x1, x2, feature_matrix)"
   ]
  },
  {
   "cell_type": "code",
   "execution_count": null,
   "metadata": {
    "collapsed": true
   },
   "outputs": [],
   "source": [
    "def calculate_distance(x,v):\n",
    "    return math.sqrt((x[0]-v[0])**2+(x[1]-v[1])**2)"
   ]
  },
  {
   "cell_type": "code",
   "execution_count": null,
   "metadata": {
    "collapsed": true
   },
   "outputs": [],
   "source": [
    "def calculate_new_centers(u):\n",
    "    global centers\n",
    "    global groups\n",
    "    global data_set\n",
    "    global m\n",
    "    new_centers=[]\n",
    "    for c in range(groups):\n",
    "        u_x_vector=np.zeros(groups)\n",
    "        u_scalar=0.0\n",
    "        for i in range(len(data_set)):\n",
    "            u_scalar = u_scalar+(u[i][c]**m)\n",
    "            u_x_vector=np.add(u_x_vector,np.multiply(u[i][c]**m,data_set[i]))\n",
    "        new_centers.append(np.divide(u_x_vector,u_scalar))\n",
    "    centers=new_centers"
   ]
  },
  {
   "cell_type": "code",
   "execution_count": null,
   "metadata": {
    "collapsed": true
   },
   "outputs": [],
   "source": [
    "def calculate_eta(x,i):\n",
    "    global data_set\n",
    "    global centers\n",
    "    global assignation\n",
    "    eta_scalar_top = 0.0\n",
    "    eta_scalar_bottom = 0.0\n",
    "    mah_distance = calculate_mah_distance(x,centers[i],data_set)\n",
    "    for k in range(len(data_set)):\n",
    "        eta_scalar_bottom = eta_scalar_bottom + (assignation[k][i]**m)\n",
    "        eta_scalar_top = eta_scalar_top + mah_distance * assignation[k][i]\n",
    "    return eta_scalar_top*1.0/eta_scalar_bottom*1.0"
   ]
  },
  {
   "cell_type": "code",
   "execution_count": null,
   "metadata": {
    "collapsed": true
   },
   "outputs": [],
   "source": [
    "def calculate_u_fcm(x,i):\n",
    "    global centers\n",
    "    if i == 0:\n",
    "        sum=1.0+(calculate_distance(x, centers[0])/calculate_distance(x, centers[1]))**2\n",
    "    else:\n",
    "        sum=1.0+(calculate_distance(x, centers[1])/calculate_distance(x, centers[0]))**2\n",
    "    return sum**-1"
   ]
  },
  {
   "cell_type": "code",
   "execution_count": null,
   "metadata": {
    "collapsed": true
   },
   "outputs": [],
   "source": [
    "def calculate_u_pcm(x,i):\n",
    "    global data_set\n",
    "    global centers\n",
    "    eta = calculate_eta(x,i)\n",
    "    if i == 0:\n",
    "        sum=1.0+((calculate_mah_distance(x, centers[0],data_set))**2)/eta\n",
    "    else:\n",
    "        sum=1.0+((calculate_mah_distance(x, centers[1],data_set))**2)/eta\n",
    "    return sum**-1"
   ]
  },
  {
   "cell_type": "code",
   "execution_count": null,
   "metadata": {
    "collapsed": true
   },
   "outputs": [],
   "source": [
    "def calculate_differences(new_assignation):\n",
    "    global assignation\n",
    "    global groups\n",
    "    diff=0\n",
    "    for i in range(len(assignation)):\n",
    "        for j in range(groups):\n",
    "            diff=diff+ abs(float(new_assignation[i][j])-float(assignation[i][j]))\n",
    "    return diff"
   ]
  },
  {
   "cell_type": "code",
   "execution_count": null,
   "metadata": {
    "collapsed": true
   },
   "outputs": [],
   "source": [
    "def cluster():\n",
    "    global assignation\n",
    "    global data_set\n",
    "    global groups\n",
    "    global error_margin\n",
    "    difference_limit_not_achieved=True\n",
    "    iter=0\n",
    "    \n",
    "\n",
    "    new_assignation=[]    \n",
    "    for i in range(len(data_set)):\n",
    "        new_assignation_vector=[]\n",
    "        for k in range(groups):\n",
    "            new_assignation_vector.append(calculate_u_fcm(data_set[i],k))\n",
    "        new_assignation.append(new_assignation_vector)\n",
    "    calculate_new_centers(new_assignation)\n",
    "    \n",
    "    print(\"Assignation afer FCM:\" + str(new_assignation))\n",
    "    \n",
    "    while difference_limit_not_achieved:\n",
    "        new_assignation=[]\n",
    "        for i in range(len(data_set)):\n",
    "            new_assignation_vector=[]\n",
    "            for k in range(groups):\n",
    "                new_assignation_vector.append(calculate_u_pcm(data_set[i],k))\n",
    "            new_assignation.append(new_assignation_vector)\n",
    "        calculate_new_centers(new_assignation)\n",
    "\n",
    "        if iter>0:\n",
    "            if calculate_differences(new_assignation) < error_margin:\n",
    "                difference_limit_not_achieved=False\n",
    "        assignation=new_assignation\n",
    "        iter=iter+1"
   ]
  },
  {
   "cell_type": "code",
   "execution_count": null,
   "metadata": {},
   "outputs": [],
   "source": [
    "cluster()"
   ]
  },
  {
   "cell_type": "code",
   "execution_count": null,
   "metadata": {},
   "outputs": [],
   "source": [
    "print(assignation)\n",
    "print(centers)"
   ]
  },
  {
   "cell_type": "code",
   "execution_count": null,
   "metadata": {},
   "outputs": [],
   "source": [
    "assigned_groups = []\n",
    "colors = ['red','blue','green','orange','black','yellow']\n",
    "\n",
    "for el in range(len(X_norm)):\n",
    "    group_id = np.argmax(assignation[el])\n",
    "    assigned_groups.append(group_id)\n",
    "print(assignation)\n",
    "print(assigned_groups)"
   ]
  },
  {
   "cell_type": "code",
   "execution_count": null,
   "metadata": {
    "collapsed": true
   },
   "outputs": [],
   "source": [
    "def get_colours(color_id):\n",
    "    global X_norm\n",
    "    print(color_id)\n",
    "    print(X_norm[np.where(np.array(assigned_groups)[:]==color_id)])\n",
    "    return X_norm[np.where(np.array(assigned_groups)[:]==color_id)]"
   ]
  },
  {
   "cell_type": "code",
   "execution_count": null,
   "metadata": {},
   "outputs": [],
   "source": [
    "fig, ax = plt.subplots()\n",
    "\n",
    "\n",
    "for group in range(groups):\n",
    "#for group in np.unique(assigned_groups):\n",
    "    small_set = get_colours(group)    \n",
    "    ax.scatter(small_set[:,0],small_set[:,1],c=colors.pop(0))\n",
    "# k-means:\n",
    "ax.scatter(np.array(centers)[:,0],np.array(centers)[:,1],marker='x',c='black')\n",
    "# ends here\n",
    "ax.set(xlabel='Seats count', ylabel='Distance range (km)',\n",
    "       title='Aircrafts (clusters)')\n",
    "ax.grid()\n",
    "plt.show()"
   ]
  }
 ],
 "metadata": {
  "kernelspec": {
   "display_name": "Python 3",
   "language": "python",
   "name": "python3"
  },
  "language_info": {
   "codemirror_mode": {
    "name": "ipython",
    "version": 3
   },
   "file_extension": ".py",
   "mimetype": "text/x-python",
   "name": "python",
   "nbconvert_exporter": "python",
   "pygments_lexer": "ipython3",
   "version": "3.6.4"
  }
 },
 "nbformat": 4,
 "nbformat_minor": 2
}
