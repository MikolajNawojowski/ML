{
 "cells": [
  {
   "cell_type": "code",
   "execution_count": 1,
   "metadata": {},
   "outputs": [],
   "source": [
    "%matplotlib inline\n",
    "\n",
    "import cv2\n",
    "import glob\n",
    "\n",
    "import pandas as pd\n",
    "import numpy as np\n",
    "import matplotlib.pyplot as plt\n",
    "import tensorflow as tf"
   ]
  },
  {
   "cell_type": "code",
   "execution_count": 2,
   "metadata": {},
   "outputs": [],
   "source": [
    "path = \"Signs/Final_Training/Images/\"\n",
    "\n",
    "sign_labels_dict = {\n",
    "    \"00000\" : \"20km/h\",\n",
    "    \"00001\" : \"30km/h\",\n",
    "    \"00002\" : \"50km/h\",\n",
    "    \"00003\" : \"60km/h\",\n",
    "    \"00004\" : \"70km/h\",\n",
    "    \"00005\" : \"80km/h\",\n",
    "    \"00006\" : \"end 80km/h\",\n",
    "    \"00007\" : \"100km/h\",\n",
    "    \"00008\" : \"120km/h\",\n",
    "    \"00009\" : \"No pass\",\n",
    "    \"00010\" : \"Passing to 3.5 metres\",\n",
    "    \"00011\" : \"Right-of-way\",\n",
    "    \"00012\" : \"Priority\",\n",
    "    \"00013\" : \"Yield\",\n",
    "    \"00014\" : \"Stop\",\n",
    "    \"00015\" : \"No cars\",\n",
    "    \"00016\" : \"To 3.5 tons\",\n",
    "    \"00017\" : \"No pass\",\n",
    "    \"00018\" : \"Caution\",\n",
    "    \"00019\" : \"Left curve\",\n",
    "    \"00020\" : \"Right curve\",\n",
    "    \"00021\" : \"2 curves\",\n",
    "    \"00022\" : \"Bumpy\",\n",
    "    \"00023\" : \"Slippery road\",\n",
    "    \"00024\" : \"Road narrows on the right\",\n",
    "    \"00025\" : \"Road work\",\n",
    "    \"00026\" : \"Traffic signals\",\n",
    "    \"00027\" : \"Pedestrians\",\n",
    "    \"00028\" : \"Children\",\n",
    "    \"00029\" : \"Bicycles\",\n",
    "    \"00030\" : \"Snow\",\n",
    "    \"00031\" : \"Animals\",\n",
    "    \"00032\" : \"End of limits\",\n",
    "    \"00033\" : \"Turn right\",\n",
    "    \"00034\" : \"Turn left\",\n",
    "    \"00035\" : \"Straight\",\n",
    "    \"00036\" : \"Straight or right\",\n",
    "    \"00037\" : \"Straight or left\",\n",
    "    \"00038\" : \"Keep right\",\n",
    "    \"00039\" : \"Keep left\",\n",
    "    \"00040\" : \"Traffic circle\",\n",
    "    \"00041\" : \"End of no passing\",\n",
    "    \"00042\" : \"End of no passing by vechiles over 3.5 metric tons\"\n",
    "}"
   ]
  },
  {
   "cell_type": "code",
   "execution_count": 4,
   "metadata": {},
   "outputs": [],
   "source": [
    "def augment_brightness_camera_images(image):\n",
    "    image1 = cv2.cvtColor(image,cv2.COLOR_RGB2HSV)\n",
    "    random_bright = .25+np.random.uniform()\n",
    "    #print(random_bright)\n",
    "    image1[:,:,2] = image1[:,:,2]*random_bright\n",
    "    image1 = cv2.cvtColor(image1,cv2.COLOR_HSV2RGB)\n",
    "    return image1\n",
    "\n",
    "def load_data(path):\n",
    "    images = {}\n",
    "    for directory in glob.glob(path+\"*\"):\n",
    "        sign_one_type = []\n",
    "        for filename in glob.glob(directory+'/*.ppm'): \n",
    "            image = cv2.imread(filename)   \n",
    "            gray_image = cv2.cvtColor(image, cv2.COLOR_BGR2GRAY)\n",
    "            sign_one_type.append(gray_image)\n",
    "        images[directory] = sign_one_type\n",
    "    return images\n",
    "\n",
    "def plot_bar(converted_dataset, title):\n",
    "    plt.figure(figsize=(20,10))\n",
    "    plt.xticks(rotation=90)\n",
    "    plt.xlabel('Sign name', fontsize=18)\n",
    "    plt.ylabel('Number in test set', fontsize=18)\n",
    "    plt.title(title)\n",
    "    plt.grid(True)\n",
    "    plt.bar(list(converted_dataset.keys()), converted_dataset.values(), color='g', )\n",
    "    plt.show()\n",
    "\n",
    "def print_signs(images):\n",
    "    for label in images.keys():\n",
    "        print(label)\n",
    "        i = 0\n",
    "        for image in images[label]:\n",
    "            i = i +1\n",
    "            plt.imshow(image, cmap=\"gray\")\n",
    "            plt.show()\n",
    "            if i > 5:\n",
    "                break\n",
    "        \n",
    "def create_plot_date(dataset, sign_labels_dict):\n",
    "    sign_labels_dict = {path+k: v for k,v in sign_labels_dict.items()}\n",
    "    plot_dict = {}\n",
    "    for key in dataset.keys():\n",
    "        plot_dict[sign_labels_dict[key]] = len(dataset[key])\n",
    "    return plot_dict\n"
   ]
  },
  {
   "cell_type": "code",
   "execution_count": 5,
   "metadata": {},
   "outputs": [
    {
     "name": "stdout",
     "output_type": "stream",
     "text": [
      "[[117 117 119 115 117 117 119 121 122 122 121 120 119 118 119 121 117 114\n",
      "  116 117 119 115 115 116 115 117]\n",
      " [118 118 117 119 120 117 122 121 120 120 119 119 119 118 117 119 121 118\n",
      "  115 117 118 117 117 117 117 117]\n",
      " [119 115 116 119 119 118 121 125 123 123 120 120 120 120 120 120 119 119\n",
      "  117 117 118 119 117 121 121 118]\n",
      " [119 117 116 115 115 118 124 124 123 121 120 121 121 119 118 117 117 117\n",
      "  118 118 119 118 117 119 122 118]\n",
      " [118 116 118 120 119 119 123 127 123 122 120 123 119 120 118 118 117 117\n",
      "  118 120 120 115 116 117 116 115]\n",
      " [118 117 117 117 117 119 127 123 120 120 120 118 116 119 121 118 116 117\n",
      "  119 121 120 117 115 116 117 115]\n",
      " [117 117 117 115 117 119 120 120 119 116 120 119 124 131 127 118 116 118\n",
      "  118 124 119 117 116 116 116 114]\n",
      " [119 117 117 117 118 119 118 122 120 118 119 120 124 129 135 125 117 118\n",
      "  118 122 117 115 117 117 116 115]\n",
      " [118 117 119 119 119 120 117 124 120 117 120 121 130 127 132 135 119 119\n",
      "  119 119 116 115 117 119 116 117]\n",
      " [121 120 120 119 119 119 117 123 119 119 120 127 134 131 129 132 122 119\n",
      "  118 118 118 118 117 118 117 117]\n",
      " [118 117 118 122 121 119 118 122 120 120 125 137 135 151 136 129 125 120\n",
      "  117 115 117 119 118 118 117 118]\n",
      " [120 118 116 118 120 121 121 121 121 128 134 134 135 139 140 137 134 126\n",
      "  118 118 119 119 119 119 119 118]\n",
      " [117 118 118 119 119 119 119 122 120 124 128 129 146 127 136 145 132 134\n",
      "  121 117 118 119 118 122 118 117]\n",
      " [118 119 120 122 123 119 118 123 119 124 127 140 155 130 143 150 131 130\n",
      "  126 122 118 115 113 118 115 116]\n",
      " [118 118 119 119 119 119 119 123 128 131 141 151 153 132 145 155 143 127\n",
      "  124 120 116 115 115 114 115 114]\n",
      " [119 117 119 119 119 117 119 126 133 138 146 151 154 135 148 155 151 137\n",
      "  127 121 115 116 115 115 116 115]\n",
      " [119 118 117 118 117 116 121 133 135 136 145 152 145 138 147 156 152 150\n",
      "  132 134 121 117 116 115 114 114]\n",
      " [119 119 118 119 121 120 126 126 127 142 155 142 158 133 147 145 158 143\n",
      "  137 129 130 122 114 115 118 114]\n",
      " [119 119 119 120 122 124 126 126 134 128 130 131 131 128 144 133 135 136\n",
      "  131 125 125 122 115 116 116 116]\n",
      " [120 120 119 121 125 122 138 138 140 141 142 143 143 142 141 141 141 140\n",
      "  140 136 133 118 119 117 114 116]\n",
      " [117 116 120 123 122 121 124 123 136 151 144 147 142 148 141 146 143 148\n",
      "  133 120 123 114 117 118 114 117]\n",
      " [114 117 119 122 118 119 121 122 134 151 145 145 145 148 139 144 147 150\n",
      "  140 119 115 116 120 117 114 117]\n",
      " [121 116 119 121 118 120 122 122 137 152 147 146 145 149 148 147 147 153\n",
      "  138 118 116 117 117 117 115 117]\n",
      " [118 118 119 120 119 119 118 123 132 152 144 145 143 143 144 145 142 152\n",
      "  139 118 116 116 114 113 112 114]\n",
      " [118 118 118 119 120 119 119 123 137 152 148 145 144 142 141 142 145 151\n",
      "  135 118 117 120 116 116 115 116]\n",
      " [118 119 121 119 120 119 120 121 128 135 134 133 132 136 138 135 133 134\n",
      "  132 119 117 117 117 116 116 116]]\n"
     ]
    }
   ],
   "source": [
    "images = load_data(path)"
   ]
  },
  {
   "cell_type": "code",
   "execution_count": 12,
   "metadata": {},
   "outputs": [
    {
     "name": "stdout",
     "output_type": "stream",
     "text": [
      "(28, 30)\n"
     ]
    }
   ],
   "source": [
    "print(images[path+'00018'][7].shape)"
   ]
  },
  {
   "cell_type": "code",
   "execution_count": 12,
   "metadata": {},
   "outputs": [
    {
     "data": {
      "text/plain": [
       "'\\nplt.imshow(image, cmap=\"gray\")\\nplt.show()\\nplt.imshow(flipped_image, cmap=\"gray\")\\nplt.show()\\n\\n'"
      ]
     },
     "execution_count": 12,
     "metadata": {},
     "output_type": "execute_result"
    }
   ],
   "source": [
    "def transform_signs(images):\n",
    "    flip_horizontally = [path+'000'+index for index in ['11', '12', '13', '15', '17', '18', '22', '26', '30', '35']]\n",
    "    flip_vertically   = [path+'000'+index for index in ['01', '05', '12', '15', '17']]\n",
    "    flip_ver_and_hor  = [path+'000'+index for index in ['32', '40']]\n",
    "    flip_alternately  = [[path+'000'+ i for i in index] for index in \n",
    "                         [['19', '20'],['33', '34'],['36', '37'],['38', '39']]]\n",
    "    \n",
    "    for label in images:       \n",
    "        if label in flip_horizontally:\n",
    "            transform_into_same_sign(images, label, [1])\n",
    "        elif label in flip_vertically:\n",
    "            transform_into_same_sign(images, label, [0])\n",
    "        elif label in flip_ver_and_hor:\n",
    "            transform_into_same_sign(images, label, [1,-1])\n",
    "        for flips in flip_alternately:\n",
    "            for flip in flips:\n",
    "                if label in flip:\n",
    "                    #take 0 as second index if label index is 1, else take 0\n",
    "                    index = 1 - flips.index(label)\n",
    "                    transform_into_other_sign(images, flip, flips[index])\n",
    "        #rotate, translate etc.\n",
    "        rotate_images(images, label)\n",
    "                    \n",
    "def transform_into_same_sign(images, label, flip_values):\n",
    "    temp = []\n",
    "    for image in images[label]:\n",
    "        for flip_value in flip_values:\n",
    "            flipped_image = cv2.flip( image, flip_value )\n",
    "        temp.append(flipped_image)\n",
    "    temp = np.array(temp)\n",
    "    '''\n",
    "    print(label)\n",
    "    i = 0\n",
    "    for image in temp:\n",
    "        i = i + 1\n",
    "        plt.imshow(image, cmap=\"gray\")\n",
    "        plt.show()\n",
    "        if i > 5:\n",
    "            break\n",
    "    '''\n",
    "    images[label] = np.concatenate((temp, images[label]))\n",
    "    \n",
    "def transform_into_other_sign(images, label_to_transform, label_to_add):\n",
    "    temp = []\n",
    "    for image in images[label_to_transform]:\n",
    "        flipped_image = cv2.flip( image, 1 )\n",
    "        temp.append(flipped_image)\n",
    "    temp = np.array(temp)\n",
    "    '''\n",
    "    print(label_to_add)\n",
    "    i = 0\n",
    "    for image in temp:\n",
    "        i = i + 1\n",
    "        plt.imshow(image, cmap=\"gray\")\n",
    "        plt.show()\n",
    "        if i > 5:\n",
    "            break\n",
    "    '''\n",
    "    images[label_to_add] = np.concatenate((temp, images[label_to_add]))\n",
    "\n",
    "def rotate_images(images, label):\n",
    "    temp = []\n",
    "    for image in images[label]:\n",
    "        for i in range(15):\n",
    "            rotated_image = rotate_image(image)\n",
    "            temp.append(rotated_image)\n",
    "    temp = np.array(temp)\n",
    "    images[label] = np.concatenate((temp, images[label]))\n",
    "    \n",
    "def rotate_image(image): \n",
    "    rows,cols = image.shape  \n",
    "    \n",
    "    rotation_angle = np.random.uniform(-15,15)\n",
    "    rotation_matrix = cv2.getRotationMatrix2D((cols/2,rows/2),rotation_angle,1)\n",
    "    \n",
    "    translation_value_x = np.random.uniform(-8,8)\n",
    "    translation_value_y = np.random.uniform(-8,8)\n",
    "    translation_matrix = np.float32([ [1,0,translation_value_x], [0,1,translation_value_y] ])\n",
    "    \n",
    "    affine_x = np.random.uniform(3,7)\n",
    "    affine_y = np.random.uniform(22,27)\n",
    "    #Coordinates of triangle vertices in the source image.\n",
    "    src = np.float32([[5,5],[25,5],[5,25]])\n",
    "    #Coordinates of the corresponding triangle vertices in the destination image.\n",
    "    dst = np.float32([[affine_x,5],[affine_y,affine_x],[5,affine_y]])\n",
    "    #https://docs.opencv.org/3.0-beta/_images/affine.jpg\n",
    "    affine_matrix = cv2.getAffineTransform(src,dst)\n",
    "    \n",
    "    rotated_image = cv2.warpAffine(image, rotation_matrix, (cols,rows))\n",
    "    translated_image = cv2.warpAffine(rotated_image, translation_matrix, (cols, rows))\n",
    "    final_image = cv2.warpAffine(translated_image, affine_matrix, (cols, rows))\n",
    "    \n",
    "    return final_image\n",
    "\n",
    "'''\n",
    "plt.imshow(image, cmap=\"gray\")\n",
    "plt.show()\n",
    "plt.imshow(flipped_image, cmap=\"gray\")\n",
    "plt.show()\n",
    "\n",
    "'''"
   ]
  },
  {
   "cell_type": "code",
   "execution_count": 13,
   "metadata": {},
   "outputs": [
    {
     "data": {
      "image/png": "[encoded data removed]",
      "text/plain": [
       "<Figure size 1440x720 with 1 Axes>"
      ]
     },
     "metadata": {},
     "output_type": "display_data"
    }
   ],
   "source": [
    "plot_bar(create_plot_date(images, sign_labels_dict), \"Dataset before augmentation\")"
   ]
  },
  {
   "cell_type": "code",
   "execution_count": 14,
   "metadata": {},
   "outputs": [],
   "source": [
    "#print_signs(images)"
   ]
  },
  {
   "cell_type": "code",
   "execution_count": 15,
   "metadata": {},
   "outputs": [
    {
     "ename": "KeyboardInterrupt",
     "evalue": "",
     "output_type": "error",
     "traceback": [
      "\u001b[0;31m---------------------------------------------------------------------------\u001b[0m",
      "\u001b[0;31mKeyboardInterrupt\u001b[0m                         Traceback (most recent call last)",
      "\u001b[0;32m<ipython-input-15-8ee34597e017>\u001b[0m in \u001b[0;36m<module>\u001b[0;34m()\u001b[0m\n\u001b[0;32m----> 1\u001b[0;31m \u001b[0mtransform_signs\u001b[0m\u001b[0;34m(\u001b[0m\u001b[0mimages\u001b[0m\u001b[0;34m)\u001b[0m\u001b[0;34m\u001b[0m\u001b[0m\n\u001b[0m",
      "\u001b[0;32m<ipython-input-12-a111a858fe40>\u001b[0m in \u001b[0;36mtransform_signs\u001b[0;34m(images)\u001b[0m\n\u001b[1;32m     20\u001b[0m                     \u001b[0mtransform_into_other_sign\u001b[0m\u001b[0;34m(\u001b[0m\u001b[0mimages\u001b[0m\u001b[0;34m,\u001b[0m \u001b[0mflip\u001b[0m\u001b[0;34m,\u001b[0m \u001b[0mflips\u001b[0m\u001b[0;34m[\u001b[0m\u001b[0mindex\u001b[0m\u001b[0;34m]\u001b[0m\u001b[0;34m)\u001b[0m\u001b[0;34m\u001b[0m\u001b[0m\n\u001b[1;32m     21\u001b[0m         \u001b[0;31m#rotate, translate etc.\u001b[0m\u001b[0;34m\u001b[0m\u001b[0;34m\u001b[0m\u001b[0m\n\u001b[0;32m---> 22\u001b[0;31m         \u001b[0mrotate_images\u001b[0m\u001b[0;34m(\u001b[0m\u001b[0mimages\u001b[0m\u001b[0;34m,\u001b[0m \u001b[0mlabel\u001b[0m\u001b[0;34m)\u001b[0m\u001b[0;34m\u001b[0m\u001b[0m\n\u001b[0m\u001b[1;32m     23\u001b[0m \u001b[0;34m\u001b[0m\u001b[0m\n\u001b[1;32m     24\u001b[0m \u001b[0;32mdef\u001b[0m \u001b[0mtransform_into_same_sign\u001b[0m\u001b[0;34m(\u001b[0m\u001b[0mimages\u001b[0m\u001b[0;34m,\u001b[0m \u001b[0mlabel\u001b[0m\u001b[0;34m,\u001b[0m \u001b[0mflip_values\u001b[0m\u001b[0;34m)\u001b[0m\u001b[0;34m:\u001b[0m\u001b[0;34m\u001b[0m\u001b[0m\n",
      "\u001b[0;32m<ipython-input-12-a111a858fe40>\u001b[0m in \u001b[0;36mrotate_images\u001b[0;34m(images, label)\u001b[0m\n\u001b[1;32m     63\u001b[0m     \u001b[0;32mfor\u001b[0m \u001b[0mimage\u001b[0m \u001b[0;32min\u001b[0m \u001b[0mimages\u001b[0m\u001b[0;34m[\u001b[0m\u001b[0mlabel\u001b[0m\u001b[0;34m]\u001b[0m\u001b[0;34m:\u001b[0m\u001b[0;34m\u001b[0m\u001b[0m\n\u001b[1;32m     64\u001b[0m         \u001b[0;32mfor\u001b[0m \u001b[0mi\u001b[0m \u001b[0;32min\u001b[0m \u001b[0mrange\u001b[0m\u001b[0;34m(\u001b[0m\u001b[0;36m15\u001b[0m\u001b[0;34m)\u001b[0m\u001b[0;34m:\u001b[0m\u001b[0;34m\u001b[0m\u001b[0m\n\u001b[0;32m---> 65\u001b[0;31m             \u001b[0mrotated_image\u001b[0m \u001b[0;34m=\u001b[0m \u001b[0mrotate_image\u001b[0m\u001b[0;34m(\u001b[0m\u001b[0mimage\u001b[0m\u001b[0;34m)\u001b[0m\u001b[0;34m\u001b[0m\u001b[0m\n\u001b[0m\u001b[1;32m     66\u001b[0m             \u001b[0mtemp\u001b[0m\u001b[0;34m.\u001b[0m\u001b[0mappend\u001b[0m\u001b[0;34m(\u001b[0m\u001b[0mrotated_image\u001b[0m\u001b[0;34m)\u001b[0m\u001b[0;34m\u001b[0m\u001b[0m\n\u001b[1;32m     67\u001b[0m     \u001b[0mtemp\u001b[0m \u001b[0;34m=\u001b[0m \u001b[0mnp\u001b[0m\u001b[0;34m.\u001b[0m\u001b[0marray\u001b[0m\u001b[0;34m(\u001b[0m\u001b[0mtemp\u001b[0m\u001b[0;34m)\u001b[0m\u001b[0;34m\u001b[0m\u001b[0m\n",
      "\u001b[0;32m<ipython-input-12-a111a858fe40>\u001b[0m in \u001b[0;36mrotate_image\u001b[0;34m(image)\u001b[0m\n\u001b[1;32m     89\u001b[0m     \u001b[0mrotated_image\u001b[0m \u001b[0;34m=\u001b[0m \u001b[0mcv2\u001b[0m\u001b[0;34m.\u001b[0m\u001b[0mwarpAffine\u001b[0m\u001b[0;34m(\u001b[0m\u001b[0mimage\u001b[0m\u001b[0;34m,\u001b[0m \u001b[0mrotation_matrix\u001b[0m\u001b[0;34m,\u001b[0m \u001b[0;34m(\u001b[0m\u001b[0mcols\u001b[0m\u001b[0;34m,\u001b[0m\u001b[0mrows\u001b[0m\u001b[0;34m)\u001b[0m\u001b[0;34m)\u001b[0m\u001b[0;34m\u001b[0m\u001b[0m\n\u001b[1;32m     90\u001b[0m     \u001b[0mtranslated_image\u001b[0m \u001b[0;34m=\u001b[0m \u001b[0mcv2\u001b[0m\u001b[0;34m.\u001b[0m\u001b[0mwarpAffine\u001b[0m\u001b[0;34m(\u001b[0m\u001b[0mrotated_image\u001b[0m\u001b[0;34m,\u001b[0m \u001b[0mtranslation_matrix\u001b[0m\u001b[0;34m,\u001b[0m \u001b[0;34m(\u001b[0m\u001b[0mcols\u001b[0m\u001b[0;34m,\u001b[0m \u001b[0mrows\u001b[0m\u001b[0;34m)\u001b[0m\u001b[0;34m)\u001b[0m\u001b[0;34m\u001b[0m\u001b[0m\n\u001b[0;32m---> 91\u001b[0;31m     \u001b[0mfinal_image\u001b[0m \u001b[0;34m=\u001b[0m \u001b[0mcv2\u001b[0m\u001b[0;34m.\u001b[0m\u001b[0mwarpAffine\u001b[0m\u001b[0;34m(\u001b[0m\u001b[0mtranslated_image\u001b[0m\u001b[0;34m,\u001b[0m \u001b[0maffine_matrix\u001b[0m\u001b[0;34m,\u001b[0m \u001b[0;34m(\u001b[0m\u001b[0mcols\u001b[0m\u001b[0;34m,\u001b[0m \u001b[0mrows\u001b[0m\u001b[0;34m)\u001b[0m\u001b[0;34m)\u001b[0m\u001b[0;34m\u001b[0m\u001b[0m\n\u001b[0m\u001b[1;32m     92\u001b[0m \u001b[0;34m\u001b[0m\u001b[0m\n\u001b[1;32m     93\u001b[0m     \u001b[0;32mreturn\u001b[0m \u001b[0mfinal_image\u001b[0m\u001b[0;34m\u001b[0m\u001b[0m\n",
      "\u001b[0;31mKeyboardInterrupt\u001b[0m: "
     ]
    }
   ],
   "source": [
    "transform_signs(images)"
   ]
  },
  {
   "cell_type": "code",
   "execution_count": null,
   "metadata": {},
   "outputs": [],
   "source": [
    "plot_bar(create_plot_date(images, sign_labels_dict), \"Dataset after augmentation\")"
   ]
  },
  {
   "cell_type": "code",
   "execution_count": null,
   "metadata": {},
   "outputs": [],
   "source": [
    "print(images[path+'00018'][0])"
   ]
  },
  {
   "cell_type": "code",
   "execution_count": 103,
   "metadata": {},
   "outputs": [],
   "source": [
    "Parameters = namedtuple('Parameters', [\n",
    "        # Data parameters\n",
    "        'num_classes', 'image_size', \n",
    "        # Training parameters\n",
    "        'batch_size', 'max_epochs', 'log_epoch', 'print_epoch',\n",
    "        # Optimisations\n",
    "        'learning_rate_decay', 'learning_rate',\n",
    "        'l2_reg_enabled', 'l2_lambda', \n",
    "        'early_stopping_enabled', 'early_stopping_patience', \n",
    "        'resume_training', \n",
    "        # Layers architecture\n",
    "        'conv1_k', 'conv1_d', 'conv1_p', \n",
    "        'conv2_k', 'conv2_d', 'conv2_p', \n",
    "        'conv3_k', 'conv3_d', 'conv3_p', \n",
    "        'fc4_size', 'fc4_p'\n",
    "    ])"
   ]
  },
  {
   "cell_type": "code",
   "execution_count": 105,
   "metadata": {},
   "outputs": [],
   "source": [
    "import tensorflow as tf\n",
    "\n",
    "def fully_connected(input, size):\n",
    "    weights = tf.get_variable( 'weights', \n",
    "        shape = [input.get_shape()[1], size],\n",
    "        initializer = tf.contrib.layers.xavier_initializer()\n",
    "      )\n",
    "    biases = tf.get_variable( 'biases',\n",
    "        shape = [size],\n",
    "        initializer = tf.constant_initializer(0.0)\n",
    "      )\n",
    "    return tf.matmul(input, weights) + biases\n",
    "\n",
    "def fully_connected_relu(input, size):\n",
    "    return tf.nn.relu(fully_connected(input, size))\n",
    "\n",
    "def conv_relu(input, kernel_size, depth):\n",
    "    weights = tf.get_variable( 'weights', \n",
    "        shape = [kernel_size, kernel_size, input.get_shape()[3], depth],\n",
    "        initializer = tf.contrib.layers.xavier_initializer()\n",
    "      )\n",
    "    biases = tf.get_variable( 'biases',\n",
    "        shape = [depth],\n",
    "        initializer = tf.constant_initializer(0.0)\n",
    "      )\n",
    "    conv = tf.nn.conv2d(input, weights,\n",
    "        strides = [1, 1, 1, 1], padding = 'SAME')\n",
    "    return tf.nn.relu(conv + biases)\n",
    "\n",
    "def pool(input, size):\n",
    "    return tf.nn.max_pool(\n",
    "        input, \n",
    "        ksize = [1, size, size, 1], \n",
    "        strides = [1, size, size, 1], \n",
    "        padding = 'SAME'\n",
    "    )"
   ]
  },
  {
   "cell_type": "code",
   "execution_count": 106,
   "metadata": {},
   "outputs": [],
   "source": []
  },
  {
   "cell_type": "code",
   "execution_count": null,
   "metadata": {},
   "outputs": [],
   "source": []
  }
 ],
 "metadata": {
  "kernelspec": {
   "display_name": "Python 3",
   "language": "python",
   "name": "python3"
  },
  "language_info": {
   "codemirror_mode": {
    "name": "ipython",
    "version": 3
   },
   "file_extension": ".py",
   "mimetype": "text/x-python",
   "name": "python",
   "nbconvert_exporter": "python",
   "pygments_lexer": "ipython3",
   "version": "3.6.5"
  }
 },
 "nbformat": 4,
 "nbformat_minor": 2
}
